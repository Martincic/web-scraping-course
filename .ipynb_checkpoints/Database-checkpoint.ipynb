{
 "cells": [
  {
   "cell_type": "code",
   "execution_count": 4,
   "id": "69f92a4a",
   "metadata": {},
   "outputs": [
    {
     "data": {
      "text/html": [
       "<div>\n",
       "<style scoped>\n",
       "    .dataframe tbody tr th:only-of-type {\n",
       "        vertical-align: middle;\n",
       "    }\n",
       "\n",
       "    .dataframe tbody tr th {\n",
       "        vertical-align: top;\n",
       "    }\n",
       "\n",
       "    .dataframe thead th {\n",
       "        text-align: right;\n",
       "    }\n",
       "</style>\n",
       "<table border=\"1\" class=\"dataframe\">\n",
       "  <thead>\n",
       "    <tr style=\"text-align: right;\">\n",
       "      <th></th>\n",
       "      <th>id</th>\n",
       "      <th>title</th>\n",
       "      <th>price</th>\n",
       "      <th>url</th>\n",
       "    </tr>\n",
       "  </thead>\n",
       "  <tbody>\n",
       "    <tr>\n",
       "      <th>0</th>\n",
       "      <td>0</td>\n",
       "      <td>Opel Astra 1.4</td>\n",
       "      <td>750</td>\n",
       "      <td>www.google.com</td>\n",
       "    </tr>\n",
       "    <tr>\n",
       "      <th>1</th>\n",
       "      <td>1</td>\n",
       "      <td>Alpina 20 zamjena za auto ili skuter</td>\n",
       "      <td>2.000</td>\n",
       "      <td>www.google.com</td>\n",
       "    </tr>\n",
       "    <tr>\n",
       "      <th>2</th>\n",
       "      <td>2</td>\n",
       "      <td>Renault Twingo 1.5 DCI</td>\n",
       "      <td>5.500</td>\n",
       "      <td>www.google.com</td>\n",
       "    </tr>\n",
       "    <tr>\n",
       "      <th>3</th>\n",
       "      <td>3</td>\n",
       "      <td>Audi A6 2.0tdi ultra</td>\n",
       "      <td>18.900</td>\n",
       "      <td>www.google.com</td>\n",
       "    </tr>\n",
       "    <tr>\n",
       "      <th>4</th>\n",
       "      <td>4</td>\n",
       "      <td>Fiat Panda 1.2 ☆ 4 x 4  ☆ CLIMBING ☆KLIMA☆KUKA...</td>\n",
       "      <td>5.400</td>\n",
       "      <td>www.google.com</td>\n",
       "    </tr>\n",
       "    <tr>\n",
       "      <th>...</th>\n",
       "      <td>...</td>\n",
       "      <td>...</td>\n",
       "      <td>...</td>\n",
       "      <td>...</td>\n",
       "    </tr>\n",
       "    <tr>\n",
       "      <th>95</th>\n",
       "      <td>95</td>\n",
       "      <td>Audi A4 B7 3.0 TDI QUATTRO</td>\n",
       "      <td>5.650</td>\n",
       "      <td>www.google.com</td>\n",
       "    </tr>\n",
       "    <tr>\n",
       "      <th>96</th>\n",
       "      <td>96</td>\n",
       "      <td>Renault Espace 1.6dci, 2016g.reg 8/2023, full ...</td>\n",
       "      <td>15.999</td>\n",
       "      <td>www.google.com</td>\n",
       "    </tr>\n",
       "    <tr>\n",
       "      <th>97</th>\n",
       "      <td>97</td>\n",
       "      <td>⭕ Ford Fiesta 1.1  Kupljen nov u HR  Samo 24.0...</td>\n",
       "      <td>11.900</td>\n",
       "      <td>www.google.com</td>\n",
       "    </tr>\n",
       "    <tr>\n",
       "      <th>98</th>\n",
       "      <td>98</td>\n",
       "      <td>VW PASSAT 2.0 TDI*110KW/150KS*REG 3/24*AUT KLI...</td>\n",
       "      <td>16.000</td>\n",
       "      <td>www.google.com</td>\n",
       "    </tr>\n",
       "    <tr>\n",
       "      <th>99</th>\n",
       "      <td>99</td>\n",
       "      <td>BMW serija 3 2.0</td>\n",
       "      <td>5,00</td>\n",
       "      <td>www.google.com</td>\n",
       "    </tr>\n",
       "  </tbody>\n",
       "</table>\n",
       "<p>100 rows × 4 columns</p>\n",
       "</div>"
      ],
      "text/plain": [
       "    id                                              title    price  \\\n",
       "0    0                                     Opel Astra 1.4     750    \n",
       "1    1               Alpina 20 zamjena za auto ili skuter   2.000    \n",
       "2    2                             Renault Twingo 1.5 DCI   5.500    \n",
       "3    3                               Audi A6 2.0tdi ultra  18.900    \n",
       "4    4  Fiat Panda 1.2 ☆ 4 x 4  ☆ CLIMBING ☆KLIMA☆KUKA...   5.400    \n",
       "..  ..                                                ...      ...   \n",
       "95  95                         Audi A4 B7 3.0 TDI QUATTRO   5.650    \n",
       "96  96  Renault Espace 1.6dci, 2016g.reg 8/2023, full ...  15.999    \n",
       "97  97  ⭕ Ford Fiesta 1.1  Kupljen nov u HR  Samo 24.0...  11.900    \n",
       "98  98  VW PASSAT 2.0 TDI*110KW/150KS*REG 3/24*AUT KLI...  16.000    \n",
       "99  99                                   BMW serija 3 2.0    5,00    \n",
       "\n",
       "               url  \n",
       "0   www.google.com  \n",
       "1   www.google.com  \n",
       "2   www.google.com  \n",
       "3   www.google.com  \n",
       "4   www.google.com  \n",
       "..             ...  \n",
       "95  www.google.com  \n",
       "96  www.google.com  \n",
       "97  www.google.com  \n",
       "98  www.google.com  \n",
       "99  www.google.com  \n",
       "\n",
       "[100 rows x 4 columns]"
      ]
     },
     "metadata": {},
     "output_type": "display_data"
    }
   ],
   "source": [
    "import pandas as pd\n",
    "\n",
    "autiDF = pd.read_csv('datasources/auti.csv')\n",
    "\n",
    "autiDF['title'] = autiDF['title'].str.strip()\n",
    "\n",
    "display(autiDF)"
   ]
  },
  {
   "cell_type": "code",
   "execution_count": 5,
   "id": "06238da5",
   "metadata": {},
   "outputs": [
    {
     "name": "stdout",
     "output_type": "stream",
     "text": [
      "SQL:  INSERT INTO cars VALUES\n",
      "        (0, \"Opel Astra 1.4\", 750 , \"www.google.com\")\n",
      "\n"
     ]
    },
    {
     "data": {
      "text/plain": [
       "[(0, 'Opel Astra 1.4', 750)]"
      ]
     },
     "metadata": {},
     "output_type": "display_data"
    }
   ],
   "source": [
    "# https://www.apachefriends.org/\n",
    "# MariaDB & phpMyAdmin\n",
    "\n",
    "import sqlite3\n",
    "conn = sqlite3.connect(':memory:') # https://docs.python.org/3/library/sqlite3.html#sqlite3.connect\n",
    "\n",
    "# https://www.w3schools.com/sql/sql_syntax.asp\n",
    "conn.execute(\"CREATE TABLE cars(id, title, price, url)\")\n",
    "\n",
    "sql = f\"\"\" INSERT INTO cars VALUES\n",
    "        ({autiDF.loc[0]['id']}, \"{autiDF.loc[0]['title']}\", {autiDF.loc[0]['price']}, \"{autiDF.loc[0]['url']}\")\n",
    "\"\"\"\n",
    "print(\"SQL: \"+sql)\n",
    "conn.execute(sql)\n",
    "res = conn.execute(\"SELECT id, title, price FROM cars\")\n",
    "\n",
    "display(res.fetchall())\n"
   ]
  },
  {
   "cell_type": "code",
   "execution_count": 8,
   "id": "5bcf9f7d",
   "metadata": {},
   "outputs": [
    {
     "data": {
      "text/plain": [
       "[('Opel Astra 1.4', 750)]"
      ]
     },
     "metadata": {},
     "output_type": "display_data"
    }
   ],
   "source": [
    "res = conn.execute(\"SELECT title, price FROM cars\")\n",
    "display(res.fetchall())"
   ]
  },
  {
   "cell_type": "code",
   "execution_count": 19,
   "id": "885d9b44",
   "metadata": {},
   "outputs": [
    {
     "name": "stdout",
     "output_type": "stream",
     "text": [
      "Opened database successfully\n",
      "Item IDs are not unique. Skipping...\n"
     ]
    }
   ],
   "source": [
    "import sqlite3\n",
    "# https://www.tutorialspoint.com/sqlite/sqlite_python.htm#:~:text=To%20use%20sqlite3%20module%2C%20you,executing%20all%20the%20SQL%20statements.\n",
    "\n",
    "conn = sqlite3.connect('./assets/my_database')\n",
    "print(\"Opened database successfully\");\n",
    "\n",
    "# https://www.w3schools.com/sql/sql_syntax.asp\n",
    "conn.execute(\"\"\"CREATE TABLE IF NOT EXISTS COMPANY\n",
    "         (ID INT PRIMARY KEY     NOT NULL,\n",
    "         NAME           TEXT    NOT NULL,\n",
    "         AGE            INT     NOT NULL,\n",
    "         ADDRESS        CHAR(50),\n",
    "         SALARY         REAL);\"\"\")\n",
    "\n",
    "try:\n",
    "    conn.execute(\"INSERT INTO COMPANY (ID,NAME,AGE,ADDRESS,SALARY) \\\n",
    "          VALUES (1, 'Paul', 32, 'California', 20000.00 )\");\n",
    "\n",
    "    conn.execute(\"INSERT INTO COMPANY (ID,NAME,AGE,ADDRESS,SALARY) \\\n",
    "          VALUES (2, 'Allen', 25, 'Texas', 15000.00 )\");\n",
    "\n",
    "    conn.execute(\"INSERT INTO COMPANY (ID,NAME,AGE,ADDRESS,SALARY) \\\n",
    "          VALUES (3, 'Teddy', 23, 'Norway', 20000.00 )\");\n",
    "\n",
    "    conn.execute(\"INSERT INTO COMPANY (ID,NAME,AGE,ADDRESS,SALARY) \\\n",
    "          VALUES (4, 'Mark', 25, 'Rich-Mond ', 65000.00 )\");\n",
    "\n",
    "    conn.commit()\n",
    "\n",
    "except sqlite3.IntegrityError:\n",
    "    print(\"Item IDs are not unique. Skipping...\")\n",
    "conn.close()\n"
   ]
  },
  {
   "cell_type": "code",
   "execution_count": 2,
   "id": "c82eec50",
   "metadata": {},
   "outputs": [
    {
     "name": "stdout",
     "output_type": "stream",
     "text": [
      "ID =  1\n",
      "NAME =  Paul\n",
      "ID =  2\n",
      "NAME =  Allen\n",
      "ID =  3\n",
      "NAME =  Teddy\n",
      "ID =  4\n",
      "NAME =  Mark\n"
     ]
    }
   ],
   "source": [
    "conn = sqlite3.connect('./assets/my_database')\n",
    "\n",
    "cursor = conn.execute(\"SELECT id, name, address, salary from COMPANY\")\n",
    "for row in cursor:\n",
    "   print(\"ID = \", row[0])\n",
    "   print(\"NAME = \", row[1])"
   ]
  },
  {
   "cell_type": "code",
   "execution_count": null,
   "id": "b05cce53",
   "metadata": {},
   "outputs": [],
   "source": []
  }
 ],
 "metadata": {
  "kernelspec": {
   "display_name": "Python 3 (ipykernel)",
   "language": "python",
   "name": "python3"
  },
  "language_info": {
   "codemirror_mode": {
    "name": "ipython",
    "version": 3
   },
   "file_extension": ".py",
   "mimetype": "text/x-python",
   "name": "python",
   "nbconvert_exporter": "python",
   "pygments_lexer": "ipython3",
   "version": "3.9.16"
  }
 },
 "nbformat": 4,
 "nbformat_minor": 5
}
