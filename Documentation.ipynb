{
 "cells": [
  {
   "cell_type": "markdown",
   "id": "57ce890d",
   "metadata": {},
   "source": [
    "# Njuskalo web scraper\n",
    "\n",
    "## Course Outline\n",
    "\n",
    "1. Web scraping\n",
    "\n",
    "   - HTTP Requests\n",
    "   - HTML (Hypertext Markup Language)\n",
    "   - Writing to CSV\n",
    "   \n",
    "[Web scraping Notebook](exercises/Scraping.ipynb)\n",
    "\n",
    "\n",
    "2. Introduction SQL Databases\n",
    "\n",
    "   - SQLite database\n",
    "   - Inserting data\n",
    "   - Retrieving data\n",
    "   \n",
    "[Databases Notebook](exercises/Database.ipynb)\n"
   ]
  },
  {
   "cell_type": "code",
   "execution_count": null,
   "id": "014931de",
   "metadata": {},
   "outputs": [],
   "source": []
  }
 ],
 "metadata": {
  "kernelspec": {
   "display_name": "Python 3 (ipykernel)",
   "language": "python",
   "name": "python3"
  },
  "language_info": {
   "codemirror_mode": {
    "name": "ipython",
    "version": 3
   },
   "file_extension": ".py",
   "mimetype": "text/x-python",
   "name": "python",
   "nbconvert_exporter": "python",
   "pygments_lexer": "ipython3",
   "version": "3.9.16"
  }
 },
 "nbformat": 4,
 "nbformat_minor": 5
}
