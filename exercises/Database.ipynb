{
 "cells": [
  {
   "cell_type": "markdown",
   "id": "3278098c",
   "metadata": {},
   "source": [
    "# Databaze\n",
    "\n",
    "Databaze sluze za pohranu podataka u nekom formatu, te jednostavan pristup\n",
    "\n",
    "MySQL i ostale SQL baze koriste relacijsko povezane podatke\n",
    "\n",
    "Ovdje mozes pogledati malo vise o konceptu Entity Relationship vezama, idealno bi bilo da procitas sve od ER Diagrams pa nadolje (20ak stranica), ali ove su neke bitne TL;DR sekcije\n",
    "\n",
    "\n",
    "https://www.relationaldbdesign.com/database-design/module1/intro-relational-database-design.php\n",
    " - [ER Diagrams](https://www.relationaldbdesign.com/database-design/module6/intro-entityRelationship-diagrams.php)\n",
    " - [Asocijacije entiteta](https://www.relationaldbdesign.com/database-design/module6/entity-relationship-concept.php)\n",
    " - [Tipovi veza](https://www.relationaldbdesign.com/database-design/module6/three-relationship-types.php)\n",
    " - [One to One](https://www.relationaldbdesign.com/database-design/module6/identify-oneToOne-relationships.php)\n",
    " - [One to Many](https://www.relationaldbdesign.com/database-design/module6/one-to-manyRelationships.php)\n",
    "\n",
    "Podatci mogu biti povezani na razne nacine, to su:\n",
    " - one to one - 1:1 (Jedna osoba ima tocno jedan OIB, jedan OIB ima tocno jednu osobu)\n",
    " - one to many - 1:N (Jedna osoba može imati puno auta, auto pripada samo jednoj osobi)\n",
    " - many to many - N:N (Jedan autobus ima puno putnika, jedan putnik vozi puno autobusa)\n",
    " - self referencing (Jedna osoba ima jednog voditelja (osobu), jedan voditelj ima više članova tima (osobe))\n",
    "\n",
    "Note: self referencing moze bit one to one ili one to many ovisno o tome kako definiramo tu vezu. Primjer naveden gore je one to many.\n",
    "\n",
    "\n",
    "Programski jezici koriste objektno orijentirane podatke, te im pristupamo kroz atribute\n",
    "\n",
    "## Primjer objektno orijentiranih podataka\n",
    "\n",
    "Imamo objekt knjiznica s vezom one to many na objekt knjige\n",
    "\n",
    "Dodajemo nove knjige u knjiznicu\n",
    "\n",
    "Pristupamo knjigama koje pripadaju nekoj knjiznici\n"
   ]
  },
  {
   "cell_type": "code",
   "execution_count": 61,
   "id": "adc2c76a",
   "metadata": {},
   "outputs": [
    {
     "name": "stdout",
     "output_type": "stream",
     "text": [
      "[(1, Harry Potter, 1997), (2, The Hobbit, 1937)]\n"
     ]
    }
   ],
   "source": [
    "# Definicija Knjiznice\n",
    "class Library:\n",
    "    def __init__(self, id, name, location):\n",
    "        self.id = id\n",
    "        self.name = name\n",
    "        self.location = location\n",
    "        self.books = []\n",
    "\n",
    "# Definicija Knjige        \n",
    "class Book:\n",
    "    def __init__(self, id, name, year):\n",
    "        self.id = id\n",
    "        self.name = name\n",
    "        self.year = year\n",
    "    def __repr__(self): # pomocna funkcija koja nam pomogne u printanju objekta \n",
    "        return \"(\"+str(self.id)+\", \"+self.name+\", \"+str(self.year)+\")\"\n",
    "\n",
    "# Kreiramo novi podatak - knjiznica\n",
    "library = Library(1, \"Alexandria\", \"Egypt\")\n",
    "\n",
    "# Dodajemo knjige kao pripadnike knjiznice\n",
    "library.books.append( Book(1, \"Harry Potter\", 1997) )\n",
    "library.books.append( Book(2, \"The Hobbit\", 1937) )\n",
    "\n",
    "# Pristupamo podatcima\n",
    "print(library.books)"
   ]
  },
  {
   "cell_type": "markdown",
   "id": "db3ac357",
   "metadata": {},
   "source": [
    "# Primjer relacijsko povezanih podataka\n",
    "\n",
    "Ukoliko zelimo povezati nesto u relacijskoj bazi podataka to nemozemo vezati direktno na objekt\n",
    "Vec trebamo kreirati vanjski kljuc na objektu koji ce referencirati vezu\n",
    "\n",
    "Pravila su sljedeca: \n",
    " - Svaka tablica mora imati stupac ID\n",
    " - To znaci da svaki redak u tablici ima unikatnu ID vrijednost (primary key)\n",
    " - Imamo foreign key u tablici knjiga \n",
    " - Ako u foreign key zapisemo postojeci ID iz tablice knjiznica imamo vezu izmedu ta dva objekta\n",
    "\n",
    "Tako u ovom slucaju imamo sljedecu schemu\n",
    "```\n",
    "+--------------------+           +-------------------+\n",
    "|        KNJIGA      |           |    KNJIZNICA      |\n",
    "|====================|           |===================|\n",
    "|  ID        |int    |   +------>|  ID      | int    |\n",
    "| name       |varchar|   |       | name     | varchar|\n",
    "| year       |int    |   |       | location | varchar|\n",
    "| library_id |int    |---+       +-------------------+\n",
    "+--------------------+           \n",
    "```"
   ]
  },
  {
   "cell_type": "code",
   "execution_count": 62,
   "id": "9a3d5d4a",
   "metadata": {},
   "outputs": [
    {
     "name": "stdout",
     "output_type": "stream",
     "text": [
      "[(1, 'Harry Potter', 1997, 1), (2, 'The Hobbit', 1937, 1)]\n"
     ]
    }
   ],
   "source": [
    "# SQLite je 'portabl' SQL, malo je opusteniji no uglavnom je ista funkcionalnost i koncepti su primjenjivi na oboje\n",
    "# https://www.geeksforgeeks.org/differences-between-sql-and-sqlite/\n",
    "import sqlite3\n",
    "conn = sqlite3.connect(':memory:') \n",
    "\n",
    "# Definicija Knjiznice\n",
    "conn.execute(\"CREATE TABLE Library(id, name, location)\")\n",
    "\n",
    "# Definicija Knjige - postavljamo vanjski kljuc koji referencira Knjiznicu\n",
    "conn.execute(\"CREATE TABLE Book(id, name, year, library_id)\")\n",
    "\n",
    "# Kreiramo novi podatak - knjiznica\n",
    "conn.execute(\"INSERT INTO Library(id, name, location) VALUES(1, 'Alexandria', 'Egypt')\")\n",
    "\n",
    "# Dodajemo knjige kao pripadnike knjiznice\n",
    "conn.execute(\"INSERT INTO Book(id, name, year, library_id) VALUES(1, 'Harry Potter', 1997, 1)\")\n",
    "conn.execute(\"INSERT INTO Book(id, name, year, library_id) VALUES(2, 'The Hobbit'  , 1937, 1)\")\n",
    "\n",
    "# Pristupamo podatcima\n",
    "print(conn.execute(\"SELECT * FROM Book WHERE library_id = 1\").fetchall())"
   ]
  },
  {
   "cell_type": "markdown",
   "id": "f7997ee6",
   "metadata": {},
   "source": [
    "### Pogledaj si ovu odlicnu prezu s FERa o relacijsko vs objektno orijentiranim podatcima\n",
    "https://www.fer.unizg.hr/_download/repository/3._OOBP_i_ORBP.pdf"
   ]
  },
  {
   "cell_type": "markdown",
   "id": "6bc76777",
   "metadata": {},
   "source": [
    "## Foreign keys\n",
    "Foreign key constraint je dobro meta pravilo \n",
    " - jer tako se baza pripremi na tu vezu \n",
    " - ubrza pristupanje tim podatcima\n",
    " - pri kreiranju podataka validira da li je veza moguca \n",
    "\n",
    "Bitno je znati da veze mogu postojati i bez ovog meta pravila (constraint-a)\n",
    "\n",
    "https://www.cockroachlabs.com/blog/what-is-a-foreign-key/\n",
    "\n",
    "https://www.w3schools.com/sql/sql_foreignkey.asp"
   ]
  },
  {
   "cell_type": "code",
   "execution_count": 63,
   "id": "885d9b44",
   "metadata": {},
   "outputs": [
    {
     "name": "stdout",
     "output_type": "stream",
     "text": [
      "Opened database successfully\n",
      "ID =  1\n",
      "NAME =  Paul\n",
      "ID =  2\n",
      "NAME =  Allen\n",
      "ID =  3\n",
      "NAME =  Teddy\n",
      "ID =  4\n",
      "NAME =  Mark\n"
     ]
    }
   ],
   "source": [
    "import sqlite3\n",
    "# https://www.tutorialspoint.com/sqlite/sqlite_python.htm#:~:text=To%20use%20sqlite3%20module%2C%20you,executing%20all%20the%20SQL%20statements.\n",
    "\n",
    "conn = sqlite3.connect(':memory:')\n",
    "print(\"Opened database successfully\");\n",
    "\n",
    "# https://www.w3schools.com/sql/sql_syntax.asp\n",
    "conn.execute(\"\"\"CREATE TABLE COMPANY\n",
    "         (ID INT PRIMARY KEY     NOT NULL,\n",
    "         NAME           TEXT    NOT NULL,\n",
    "         AGE            INT     NOT NULL,\n",
    "         ADDRESS        CHAR(50),\n",
    "         SALARY         REAL);\"\"\")\n",
    "\n",
    "\n",
    "conn.execute(\"INSERT INTO COMPANY (ID,NAME,AGE,ADDRESS,SALARY) \\\n",
    "      VALUES (1, 'Paul', 32, 'California', 20000.00 )\");\n",
    "\n",
    "conn.execute(\"INSERT INTO COMPANY (ID,NAME,AGE,ADDRESS,SALARY) \\\n",
    "      VALUES (2, 'Allen', 25, 'Texas', 15000.00 )\");\n",
    "\n",
    "conn.execute(\"INSERT INTO COMPANY (ID,NAME,AGE,ADDRESS,SALARY) \\\n",
    "      VALUES (3, 'Teddy', 23, 'Norway', 20000.00 )\");\n",
    "\n",
    "conn.execute(\"INSERT INTO COMPANY (ID,NAME,AGE,ADDRESS,SALARY) \\\n",
    "      VALUES (4, 'Mark', 25, 'Rich-Mond ', 65000.00 )\");\n",
    "\n",
    "conn.commit()\n",
    "\n",
    "\n",
    "cursor = conn.execute(\"SELECT id, name, address, salary from COMPANY\")\n",
    "for row in cursor:\n",
    "   print(\"ID = \", row[0])\n",
    "   print(\"NAME = \", row[1])\n",
    "    \n",
    "conn.close()\n"
   ]
  },
  {
   "cell_type": "code",
   "execution_count": 64,
   "id": "b05cce53",
   "metadata": {},
   "outputs": [],
   "source": [
    "# https://www.apachefriends.org/\n",
    "# MariaDB & phpMyAdmin\n"
   ]
  }
 ],
 "metadata": {
  "kernelspec": {
   "display_name": "Python 3 (ipykernel)",
   "language": "python",
   "name": "python3"
  },
  "language_info": {
   "codemirror_mode": {
    "name": "ipython",
    "version": 3
   },
   "file_extension": ".py",
   "mimetype": "text/x-python",
   "name": "python",
   "nbconvert_exporter": "python",
   "pygments_lexer": "ipython3",
   "version": "3.9.16"
  }
 },
 "nbformat": 4,
 "nbformat_minor": 5
}
